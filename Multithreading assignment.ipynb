{
 "cells": [
  {
   "cell_type": "markdown",
   "id": "6b0cc7f7-b954-4f16-b792-e4e62b705538",
   "metadata": {},
   "source": [
    "Q1 What is multithreading in python? hy is it used? Name the module used to handle threads in python"
   ]
  },
  {
   "cell_type": "raw",
   "id": "98eae3a0-18dc-49f4-9d3f-bd319e5543fa",
   "metadata": {},
   "source": [
    "Ans>\n",
    "Multithreading in Python refers to the concurrent execution of multiple threads within the same process. A thread is the smallest unit of execution, and multithreading allows for the parallel execution of tasks, potentially improving the overall performance of a program.\n",
    "\n",
    "Python provides a built-in module called threading to work with threads. The threading module allows you to create, start, and manage threads. Each thread represents a separate flow of control, and multiple threads can run concurrently, sharing the same resources but executing independently.\n",
    "\n",
    "Multithreading is used in Python for various reasons, including:\n",
    "\n",
    "Concurrency: Multithreading enables concurrent execution, allowing multiple tasks to run simultaneously. This is particularly useful in situations where tasks can be performed independently, and parallelism can lead to performance improvements.\n",
    "\n",
    "Responsiveness: Multithreading can be employed to keep a program responsive to user input or external events. For example, in a graphical user interface (GUI) application, a separate thread can be used to handle user input, ensuring that the main thread remains responsive to other tasks.\n",
    "\n",
    "Resource Utilization: In some cases, multithreading can be used to better utilize available resources, especially in scenarios where there are multiple CPU cores. Each thread can run on a different core, leading to better utilization of processing power.\n",
    "\n",
    "However, it's important to note that Python's Global Interpreter Lock (GIL) can limit the effectiveness of multithreading in certain scenarios, particularly in CPU-bound tasks. The GIL ensures that only one thread executes Python bytecode at a time in a single process, which can hinder the performance gains expected from true parallel execution.\n",
    "\n",
    "For CPU-bound tasks or situations where true parallelism is needed, the multiprocessing module, which creates separate processes, might be a more suitable choice in Python.\n",
    "\n",
    "In summary, the threading module is used for handling threads in Python, and multithreading is employed for concurrent execution of tasks, potentially improving performance and responsiveness in certain scenarios.\n",
    "\n",
    "\n",
    "\n",
    "\n",
    "\n"
   ]
  },
  {
   "cell_type": "code",
   "execution_count": null,
   "id": "2a5bd20c-ba34-404d-b8ba-f9da945e9193",
   "metadata": {},
   "outputs": [],
   "source": []
  },
  {
   "cell_type": "markdown",
   "id": "b8e1b0dd-d166-40ed-9099-8455d3692038",
   "metadata": {},
   "source": [
    "Q2. Why threading module used? Write the use of the following functions\n",
    "1. activeCount()\n",
    "2. currentThread()\n",
    "3.enumerate()"
   ]
  },
  {
   "cell_type": "raw",
   "id": "bcf1fe01-fa6d-4d0d-b659-b1d110b925a9",
   "metadata": {},
   "source": [
    "ANS>\n",
    "The threading module in Python is used for creating, managing, and working with threads. It provides a way to create and run threads, synchronize their execution, and manage thread-specific data. The module includes various functions and classes to facilitate multithreading."
   ]
  },
  {
   "cell_type": "raw",
   "id": "dbd83d18-3bcf-441f-a858-4b2a4eb452d0",
   "metadata": {},
   "source": [
    "activeCount():\n",
    "\n",
    "Use: This function is used to get the number of Thread objects currently alive."
   ]
  },
  {
   "cell_type": "code",
   "execution_count": 6,
   "id": "c0b9da22-b740-4513-a6e4-d547ca8cd02a",
   "metadata": {},
   "outputs": [
    {
     "name": "stdout",
     "output_type": "stream",
     "text": [
      "Function 1 is running\n",
      "Function 2 is running\n",
      "Number of active threads: 8\n"
     ]
    },
    {
     "name": "stderr",
     "output_type": "stream",
     "text": [
      "/tmp/ipykernel_103/951989507.py:17: DeprecationWarning: activeCount() is deprecated, use active_count() instead\n",
      "  num_active_threads = threading.activeCount()\n"
     ]
    }
   ],
   "source": [
    "import threading\n",
    "\n",
    "\n",
    "def your_function1():\n",
    "    print(\"Function 1 is running\")\n",
    "\n",
    "def your_function2():\n",
    "    print(\"Function 2 is running\")\n",
    "\n",
    "thread1 = threading.Thread(target=your_function1)\n",
    "thread2 = threading.Thread(target=your_function2)\n",
    "\n",
    "thread1.start()\n",
    "thread2.start()\n",
    "\n",
    "\n",
    "num_active_threads = threading.activeCount()\n",
    "print(f\"Number of active threads: {num_active_threads}\")\n"
   ]
  },
  {
   "cell_type": "markdown",
   "id": "7b2f50ab-ce75-4b99-bd62-80efd2f60d79",
   "metadata": {},
   "source": [
    "currentThread():\n",
    "\n",
    "Use: This function is used to get the current Thread object, corresponding to the caller's thread of control."
   ]
  },
  {
   "cell_type": "code",
   "execution_count": 8,
   "id": "1a02aff0-1d87-4714-a28c-cbe21e56452a",
   "metadata": {},
   "outputs": [
    {
     "name": "stdout",
     "output_type": "stream",
     "text": [
      "Current thread name: Thread-12 (print_current_thread_name)\n"
     ]
    },
    {
     "name": "stderr",
     "output_type": "stream",
     "text": [
      "/tmp/ipykernel_103/4283924988.py:4: DeprecationWarning: currentThread() is deprecated, use current_thread() instead\n",
      "  current_thread = threading.currentThread()\n"
     ]
    }
   ],
   "source": [
    "import threading\n",
    "\n",
    "def print_current_thread_name():\n",
    "    current_thread = threading.currentThread()\n",
    "    print(f\"Current thread name: {current_thread.name}\")\n",
    "\n",
    "my_thread = threading.Thread(target=print_current_thread_name)\n",
    "my_thread.start()\n"
   ]
  },
  {
   "cell_type": "markdown",
   "id": "f45c4a48-1778-434c-bb3a-5ba464c242de",
   "metadata": {},
   "source": [
    "enumerate():\n",
    "\n",
    "Use: This function returns a list of all Thread objects currently alive."
   ]
  },
  {
   "cell_type": "code",
   "execution_count": 10,
   "id": "47fe5719-44ca-4c78-acb5-2953a1ccabc1",
   "metadata": {},
   "outputs": [
    {
     "name": "stdout",
     "output_type": "stream",
     "text": [
      "All alive threads:\n",
      "MainThread\n",
      "IOPub\n",
      "Heartbeat\n",
      "Thread-3 (_watch_pipe_fd)\n",
      "Thread-4 (_watch_pipe_fd)\n",
      "Control\n",
      "IPythonHistorySavingThread\n",
      "Thread-2\n"
     ]
    }
   ],
   "source": [
    "import threading\n",
    "\n",
    "def my_function():\n",
    "    pass\n",
    "\n",
    "thread1 = threading.Thread(target=my_function)\n",
    "thread2 = threading.Thread(target=my_function)\n",
    "thread3 = threading.Thread(target=my_function)\n",
    "\n",
    "thread1.start()\n",
    "thread2.start()\n",
    "thread3.start()\n",
    "\n",
    "all_threads = threading.enumerate()\n",
    "print(\"All alive threads:\")\n",
    "for thread in all_threads:\n",
    "    print(thread.name)\n"
   ]
  },
  {
   "cell_type": "code",
   "execution_count": null,
   "id": "bcaee2c2-7f92-42cb-b5f1-e1fd01ddeaae",
   "metadata": {},
   "outputs": [],
   "source": []
  },
  {
   "cell_type": "raw",
   "id": "5496a227-fbe2-49c1-80ee-a8aa67fe5fe0",
   "metadata": {},
   "source": [
    "Q3. Explain the following functions\n",
    "1. run()\n",
    "2.start()\n",
    "3.join()\n",
    "4.isAlive()"
   ]
  },
  {
   "cell_type": "markdown",
   "id": "2675ccae-e250-4654-a599-19aff0b5fff4",
   "metadata": {},
   "source": [
    "Ans>\n",
    "1.  run():\n",
    "\n",
    "Explanation: The run() method is a method of the Thread class. It represents the entry point of the thread's activity. When you create a custom thread by subclassing the Thread class and overriding the run() method with your own implementation, the code within the run() method is what gets executed when you call start() on an instance of your thread.\n",
    "\n",
    "Example:"
   ]
  },
  {
   "cell_type": "code",
   "execution_count": 11,
   "id": "2c1d1d87-929a-441d-8e2d-360493052b75",
   "metadata": {},
   "outputs": [
    {
     "name": "stdout",
     "output_type": "stream",
     "text": [
      "Thread Thread-19 is running\n"
     ]
    }
   ],
   "source": [
    "import threading\n",
    "\n",
    "class MyThread(threading.Thread):\n",
    "    def run(self):\n",
    "        print(f\"Thread {self.name} is running\")\n",
    "\n",
    "my_thread = MyThread()\n",
    "my_thread.start()\n"
   ]
  },
  {
   "cell_type": "raw",
   "id": "4c6afc08-953b-4645-b544-02d5a3756594",
   "metadata": {},
   "source": [
    "2.  start():\n",
    "\n",
    "Explanation: The start() method is used to initiate the execution of a thread. It begins the execution of the run() method in a separate thread of control. If the run() method is not overridden in your custom thread class, calling start() will still create a new thread and execute the default run() method, which does nothing.\n",
    "\n",
    "Example:"
   ]
  },
  {
   "cell_type": "code",
   "execution_count": 12,
   "id": "3967d72e-a397-4380-b96d-4f1dbd294dbd",
   "metadata": {},
   "outputs": [
    {
     "name": "stdout",
     "output_type": "stream",
     "text": [
      "Thread is running\n"
     ]
    }
   ],
   "source": [
    "import threading\n",
    "\n",
    "def my_function():\n",
    "    print(\"Thread is running\")\n",
    "\n",
    "my_thread = threading.Thread(target=my_function)\n",
    "my_thread.start()\n"
   ]
  },
  {
   "cell_type": "raw",
   "id": "6e6cc18e-7d2d-4732-a268-d7de8ed0d303",
   "metadata": {},
   "source": [
    "3. join():\n",
    "\n",
    "Explanation: The join() method is used to wait for a thread to complete its execution. If you call join() on a thread, the program will wait for that thread to finish before proceeding to the next step. This is useful when you want to ensure that a thread has completed its work before continuing with the rest of the program.\n",
    "\n",
    "Example:"
   ]
  },
  {
   "cell_type": "code",
   "execution_count": 13,
   "id": "374308fc-732c-4d0d-a496-ba9c98554df8",
   "metadata": {},
   "outputs": [
    {
     "name": "stdout",
     "output_type": "stream",
     "text": [
      "Thread is running\n",
      "Thread has finished\n"
     ]
    }
   ],
   "source": [
    "import threading\n",
    "\n",
    "def my_function():\n",
    "    print(\"Thread is running\")\n",
    "\n",
    "my_thread = threading.Thread(target=my_function)\n",
    "my_thread.start()\n",
    "\n",
    "my_thread.join()\n",
    "print(\"Thread has finished\")\n"
   ]
  },
  {
   "cell_type": "code",
   "execution_count": null,
   "id": "d4977ac6-c2a4-47e5-ae9b-6dfba0c5ad6b",
   "metadata": {},
   "outputs": [],
   "source": []
  },
  {
   "cell_type": "markdown",
   "id": "d37a67f4-2d7d-4481-9e53-164282156679",
   "metadata": {},
   "source": [
    "Q4.  Write a python program to create two threads. Thread one must print the list of squares and thread\n",
    "two must print the list of cubes"
   ]
  },
  {
   "cell_type": "code",
   "execution_count": 15,
   "id": "017c07e7-58e3-40c1-b3b8-8c53190c1910",
   "metadata": {},
   "outputs": [
    {
     "name": "stdout",
     "output_type": "stream",
     "text": [
      "Square of 7: 49\n",
      "Square of 8: 64\n",
      "Square of 9: 81\n",
      "Square of 10: 100\n",
      "Square of 11: 121\n",
      "Cube of 1: 1\n",
      "Cube of 2: 8\n",
      "Cube of 3: 27\n",
      "Cube of 4: 64\n",
      "Cube of 5: 125\n",
      "Main program has finished\n"
     ]
    }
   ],
   "source": [
    "import threading\n",
    "\n",
    "def print_squares():\n",
    "    for i in range(7, 12):\n",
    "        print(f\"Square of {i}: {i*i}\")\n",
    "\n",
    "def print_cubes():\n",
    "    for i in range(1, 6):\n",
    "        print(f\"Cube of {i}: {i*i*i}\")\n",
    "\n",
    "thread_squares = threading.Thread(target=print_squares)\n",
    "thread_cubes = threading.Thread(target=print_cubes)\n",
    "\n",
    "thread_squares.start()\n",
    "thread_cubes.start()\n",
    "\n",
    "thread_squares.join()\n",
    "thread_cubes.join()\n",
    "\n",
    "print(\"Main program has finished\")\n"
   ]
  },
  {
   "cell_type": "code",
   "execution_count": null,
   "id": "11065802-e3fe-457a-ab9e-a0c746ee5d5b",
   "metadata": {},
   "outputs": [],
   "source": []
  },
  {
   "cell_type": "markdown",
   "id": "f0ea18f5-5799-4da6-8394-515935c767be",
   "metadata": {},
   "source": [
    "Q5. State advantages and disadvantages of multithreading"
   ]
  },
  {
   "cell_type": "raw",
   "id": "2c2be7ae-34b8-4f04-b39a-e9acaeae3136",
   "metadata": {},
   "source": [
    "##Advantages of Multithreading:\n",
    "\n",
    "1. Concurrency: Multithreading enables concurrent execution of tasks, allowing multiple threads to run simultaneously within the same process. This can lead to improved performance by leveraging the available CPU resources.\n",
    "\n",
    "2. Responsiveness: Multithreading is beneficial for applications that require responsiveness to user input or events. By using separate threads, one thread can handle user interactions while another performs background tasks.\n",
    "\n",
    "3. Resource Utilization: In systems with multiple CPU cores, multithreading allows for better utilization of available processing power. Each thread can potentially run on a different core, leading to parallel execution and improved performance.\n",
    "\n",
    "4. Modularity: Multithreading facilitates modular design by allowing different tasks to be performed in separate threads. This can lead to cleaner and more maintainable code, as each thread can focus on a specific aspect of the program.\n",
    "\n",
    "5. Parallelism: While Python's Global Interpreter Lock (GIL) limits true parallelism in CPython, multithreading can still be effective for tasks that involve I/O operations, such as network communication or file handling.\n",
    "\n",
    "##Disadvantages of Multithreading:\n",
    "\n",
    "1. Global Interpreter Lock (GIL): In CPython, the Global Interpreter Lock (GIL) restricts the execution of Python bytecode to a single thread in a process. This can limit the potential performance gains from multithreading, particularly in CPU-bound tasks.\n",
    "\n",
    "2. Complexity: Multithreading introduces complexity, as developers need to deal with issues such as race conditions, deadlocks, and synchronization. Writing correct and efficient multithreaded code requires careful consideration of these complexities.\n",
    "\n",
    "3. Debugging Challenges: Debugging multithreaded applications can be challenging. Issues like race conditions may not always manifest consistently, making them difficult to identify and reproduce. Debugging tools and techniques for multithreading are often more complex.\n",
    "\n",
    "4. Increased Memory Overhead: Each thread has its own stack and thread-specific data, leading to increased memory overhead. In scenarios with a large number of threads, this can contribute to higher memory consumption.\n",
    "\n",
    "5. Potential for Resource Contention: Threads within the same process share resources, such as memory space. Improper management of shared resources can lead to contention, impacting overall performance.\n",
    "\n",
    "6. Platform Dependency: Some aspects of multithreading behavior can be platform-dependent, which may lead to challenges when developing cross-platform applications."
   ]
  },
  {
   "cell_type": "code",
   "execution_count": null,
   "id": "e7952e37-c7d8-404a-8d37-a57940a35c19",
   "metadata": {},
   "outputs": [],
   "source": []
  },
  {
   "cell_type": "markdown",
   "id": "351cf37e-dc97-448b-9ae8-f7737897bd4e",
   "metadata": {},
   "source": [
    "Q6. Explain deadlocks and race conditions."
   ]
  },
  {
   "cell_type": "raw",
   "id": "94fe7940-3b1c-46a1-8904-889dd34b6e6d",
   "metadata": {},
   "source": [
    "Deadlocks:\n",
    "\n",
    "A deadlock is a situation in concurrent programming where two or more threads are unable to proceed because each is waiting for the other to release a resource. In other words, each thread holds a resource that the other threads are waiting for, creating a circular waiting scenario.\n",
    "\n",
    "Key characteristics of deadlocks:\n",
    "\n",
    "Mutual Exclusion: At least one resource must be held in a non-sharable mode (i.e., only one thread can use it at a time).\n",
    "\n",
    "Hold and Wait: A thread must be holding at least one resource and waiting for another resource that is currently being held by another thread.\n",
    "\n",
    "No Preemption: Resources cannot be forcibly taken away from a thread; they must be released voluntarily.\n",
    "\n",
    "Circular Wait: There exists a circular chain of two or more threads, each holding a resource needed by the next thread in the chain.\n",
    "\n",
    "Preventing deadlocks involves carefully managing resources and ensuring that the conditions mentioned above are avoided. Techniques such as locking hierarchies, resource allocation strategies, and deadlock detection algorithms can be employed to mitigate the risk of deadlocks.\n",
    "\n",
    "Race Conditions:\n",
    "\n",
    "A race condition occurs in a program when the behavior of the program depends on the relative timing of events, such as the order in which threads are scheduled to run. It arises when multiple threads access shared data concurrently, and at least one of them modifies the data. The final outcome of the program becomes unpredictable and depends on the timing of the thread execution.\n",
    "\n",
    "Key characteristics of race conditions:\n",
    "\n",
    "Shared Data: Multiple threads access and potentially modify shared data concurrently.\n",
    "\n",
    "Non-Atomic Operations: Operations on shared data are not atomic, meaning they consist of multiple steps, and interleaving of steps can lead to unexpected results.\n",
    "\n",
    "Interleaved Execution: The order of execution of threads is not guaranteed, and the outcome depends on the timing and scheduling of the threads.\n",
    "\n",
    "Uncertain State: Due to the non-deterministic nature of thread execution, the final state of shared data is uncertain and depends on the interleaving of thread operations.\n",
    "\n",
    "Race conditions can lead to data corruption, unexpected program behavior, and difficult-to-reproduce bugs. To address race conditions, synchronization mechanisms, such as locks, semaphores, and other concurrency control techniques, are used to ensure that only one thread at a time can access or modify shared data, preventing conflicts. Careful consideration of thread safety and proper synchronization is essential to avoid race conditions in concurrent programs."
   ]
  },
  {
   "cell_type": "code",
   "execution_count": null,
   "id": "8e041b56-ddb6-46a0-b552-cc9b7f7d97da",
   "metadata": {},
   "outputs": [],
   "source": []
  },
  {
   "cell_type": "code",
   "execution_count": null,
   "id": "255cfa79-9ca9-4061-b1a2-f9f43f6162b7",
   "metadata": {},
   "outputs": [],
   "source": []
  }
 ],
 "metadata": {
  "kernelspec": {
   "display_name": "Python 3 (ipykernel)",
   "language": "python",
   "name": "python3"
  },
  "language_info": {
   "codemirror_mode": {
    "name": "ipython",
    "version": 3
   },
   "file_extension": ".py",
   "mimetype": "text/x-python",
   "name": "python",
   "nbconvert_exporter": "python",
   "pygments_lexer": "ipython3",
   "version": "3.10.8"
  }
 },
 "nbformat": 4,
 "nbformat_minor": 5
}
